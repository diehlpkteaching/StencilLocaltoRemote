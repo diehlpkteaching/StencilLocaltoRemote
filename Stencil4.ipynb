{
 "cells": [
  {
   "cell_type": "markdown",
   "metadata": {},
   "source": [
    "# Parallel implementaiton of the 1D heat equation introducing partitioning "
   ]
  },
  {
   "cell_type": "code",
   "execution_count": null,
   "metadata": {},
   "outputs": [
    {
     "name": "stderr",
     "output_type": "stream",
     "text": [
      "IncrementalExecutor::executeFunction: symbol '__emutls_v._ZSt11__once_call' unresolved while linking function '__cxx_global_var_initcling_module_1_.29'!\n",
      "IncrementalExecutor::executeFunction: symbol '__emutls_v._ZSt15__once_callable' unresolved while linking function '__cxx_global_var_initcling_module_1_.29'!\n"
     ]
    }
   ],
   "source": [
    "#include<run_hpx.cpp>\n",
    "#include <hpx/hpx.hpp>\n",
    "#include <hpx/include/parallel_algorithm.hpp>\n",
    "#include<vector>\n",
    "#include<fstream>\n",
    "#include <iostream>\n",
    "#include <memory>\n",
    "#include <utility>\n",
    "#include <boost/range/irange.hpp>"
   ]
  },
  {
   "cell_type": "markdown",
   "metadata": {},
   "source": [
    "## New class to manage the partitions"
   ]
  },
  {
   "cell_type": "code",
   "execution_count": null,
   "metadata": {},
   "outputs": [],
   "source": [
    "class partition_data\n",
    "{\n",
    "public:\n",
    "    partition_data(std::size_t size)\n",
    "      : data_(new double[size]), size_(size)\n",
    "    {}\n",
    "\n",
    "    partition_data(std::size_t size, double initial_value)\n",
    "      : data_(new double[size]),\n",
    "        size_(size)\n",
    "    {\n",
    "        double base_value = double(initial_value * size);\n",
    "        for (std::size_t i = 0; i != size; ++i)\n",
    "            data_[i] = base_value + double(i);\n",
    "    }\n",
    "\n",
    "    partition_data(partition_data && other)\n",
    "      : data_(std::move(other.data_))\n",
    "      , size_(other.size_)\n",
    "    {}\n",
    "\n",
    "    double& operator[](std::size_t idx) { return data_[idx]; }\n",
    "    double operator[](std::size_t idx) const { return data_[idx]; }\n",
    "\n",
    "    std::size_t size() const { return size_; }\n",
    "\n",
    "private:\n",
    "    std::unique_ptr<double[]> data_;\n",
    "    std::size_t size_;\n",
    "};"
   ]
  },
  {
   "cell_type": "markdown",
   "metadata": {},
   "source": [
    "## Method to save the out to a file for ploting the result"
   ]
  },
  {
   "cell_type": "code",
   "execution_count": null,
   "metadata": {},
   "outputs": [],
   "source": [
    "void saveFile(std::vector<hpx::shared_future<partition_data>> U){\n",
    "\n",
    "  std::ofstream myfile;\n",
    "  myfile.open(\"out.txt\");\n",
    "    \n",
    " \n",
    "  \n",
    "  for( size_t j = 0 ; j < U.size() ; j++){\n",
    "    for (size_t i = 0 ; i <  U[j].get()size(); i++)\n",
    "          myfile <<   U[j].get()[i] << std::endl;\n",
    "      \n",
    "  }\n",
    "  myfile.close();\n",
    "\n",
    "}"
   ]
  },
  {
   "cell_type": "markdown",
   "metadata": {},
   "source": [
    "## Function to map the indicies "
   ]
  },
  {
   "cell_type": "code",
   "execution_count": null,
   "metadata": {},
   "outputs": [],
   "source": [
    "inline std::size_t idx(std::size_t i, int dir, std::size_t size)\n",
    "{\n",
    "    if(i == 0 && dir == -1)\n",
    "        return size-1;\n",
    "    if(i == size-1 && dir == +1)\n",
    "        return 0;\n",
    "\n",
    "    HPX_ASSERT((i + dir) < size);\n",
    "\n",
    "    return i + dir;\n",
    "}"
   ]
  },
  {
   "cell_type": "markdown",
   "metadata": {},
   "source": [
    "## Default parameters"
   ]
  },
  {
   "cell_type": "code",
   "execution_count": null,
   "metadata": {},
   "outputs": [],
   "source": [
    "double k = 0.5;     // heat transfer coefficient\n",
    "double dt = 1.;     // time step\n",
    "double dx = 1.;     // grid spacing\n",
    "size_t nx = 100;\n",
    "size_t nt = 45;\n",
    "size_t np = 1;\n",
    "size_t nd = 5; // maximal depth of the tree"
   ]
  },
  {
   "cell_type": "markdown",
   "metadata": {},
   "source": [
    "## Simulation class"
   ]
  },
  {
   "cell_type": "code",
   "execution_count": null,
   "metadata": {},
   "outputs": [],
   "source": [
    "class stepper\n",
    "{\n",
    "    \n",
    "public:\n",
    "    \n",
    "    // Our data for one time step\n",
    "    typedef hpx::shared_future<partition_data> partition;\n",
    "    typedef std::vector<partition> space;\n",
    "\n",
    "    // Our operator\n",
    "    static double heat(double left, double middle, double right)\n",
    "    {\n",
    "        return middle + (k*dt/(dx*dx)) * (left - 2*middle + right);\n",
    "    }\n",
    "\n",
    "    // The partitioned operator, it invokes the heat operator above on all\n",
    "    // elements of a partition.\n",
    "    static partition_data heat_part(partition_data const& left,\n",
    "        partition_data const& middle, partition_data const& right)\n",
    "    {\n",
    "        std::size_t size = middle.size();\n",
    "        partition_data next(size);\n",
    "\n",
    "        next[0] = heat(left[size-1], middle[0], middle[1]);\n",
    "\n",
    "        for(std::size_t i = 1; i != size-1; ++i)\n",
    "        {\n",
    "            next[i] = heat(middle[i-1], middle[i], middle[i+1]);\n",
    "        }\n",
    "\n",
    "        next[size-1] = heat(middle[size-2], middle[size-1], right[0]);\n",
    "\n",
    "        return next;\n",
    "    }\n",
    "\n",
    "    // do all the work on 'np' partitions, 'nx' data points each, for 'nt'\n",
    "    // time steps, limit depth of dependency tree to 'nd'\n",
    "    hpx::future<space> do_work(std::size_t np, std::size_t nx, std::size_t nt,\n",
    "        std::uint64_t nd)\n",
    "    {\n",
    "        using hpx::dataflow;\n",
    "        using hpx::util::unwrapping;\n",
    "\n",
    "        // U[t][i] is the state of position i at time t.\n",
    "        std::vector<space> U(2);\n",
    "        for (space& s: U)\n",
    "            s.resize(np);\n",
    "\n",
    "        // Initial conditions: f(0, i) = i\n",
    "        std::size_t b = 0;\n",
    "        auto range = boost::irange(b, np);\n",
    "        using hpx::parallel::execution::par;\n",
    "        hpx::parallel::for_each(par, std::begin(range), std::end(range),\n",
    "            [&U, nx](std::size_t i)\n",
    "            {\n",
    "                U[0][i] = hpx::make_ready_future(partition_data(nx, double(i)));\n",
    "            }\n",
    "        );\n",
    "\n",
    "        // limit depth of dependency tree\n",
    "        hpx::lcos::local::sliding_semaphore sem(nd);\n",
    "\n",
    "        auto Op = unwrapping(&stepper::heat_part);\n",
    "\n",
    "        // Actual time step loop\n",
    "        for (std::size_t t = 0; t != nt; ++t)\n",
    "        {\n",
    "            space const& current = U[t % 2];\n",
    "            space& next = U[(t + 1) % 2];\n",
    "\n",
    "            for (std::size_t i = 0; i != np; ++i)\n",
    "            {\n",
    "                next[i] = dataflow(\n",
    "                        hpx::launch::async, Op,\n",
    "                        current[idx(i, -1, np)], current[i], current[idx(i, +1, np)]\n",
    "                    );\n",
    "\n",
    "            }\n",
    "\n",
    "            // every nd time steps, attach additional continuation which will\n",
    "            // trigger the semaphore once computation has reached this point\n",
    "            if ((t % nd) == 0)\n",
    "            {\n",
    "                next[0].then(\n",
    "                    [&sem, t](partition &&)\n",
    "                    {\n",
    "                        // inform semaphore about new lower limit\n",
    "                        sem.signal(t);\n",
    "                    });\n",
    "            }\n",
    "\n",
    "            // suspend if the tree has become too deep, the continuation above\n",
    "            // will resume this thread once the computation has caught up\n",
    "            sem.wait(t);\n",
    "        }\n",
    "\n",
    "        // Return the solution at time-step 'nt'.\n",
    "        return hpx::when_all(U[nt % 2]);\n",
    "    }\n",
    "};"
   ]
  },
  {
   "cell_type": "markdown",
   "metadata": {},
   "source": [
    "## Start simulation"
   ]
  },
  {
   "cell_type": "code",
   "execution_count": null,
   "metadata": {},
   "outputs": [],
   "source": [
    "stepper step;"
   ]
  },
  {
   "cell_type": "code",
   "execution_count": null,
   "metadata": {},
   "outputs": [],
   "source": [
    "run_hpx([](){\n",
    "\n",
    "\n",
    "std::uint64_t t = hpx::util::high_resolution_clock::now();\n",
    "\n",
    "// Execute nt time steps on nx grid points and print the final solution.\n",
    "hpx::future<stepper::space> result = step.do_work(np, nx, nt, nd);\n",
    "\n",
    "stepper::space solution = result.get();\n",
    "\n",
    "hpx::wait_all(solution);\n",
    "\n",
    "\n",
    "\n",
    "std::uint64_t elapsed = hpx::util::high_resolution_clock::now() - t;\n",
    "std::uint64_t const os_thread_count = hpx::get_os_thread_count();\n",
    "\n",
    "std::cout << \"Computation took \" << t << \" on \" << os_thread_count << \" threads\" << std::endl;\n",
    "    \n",
    "std::cout << \"Output written to out.txt!\" << std::endl;\n",
    "saveFile(solution);\n",
    "\n",
    "});"
   ]
  }
 ],
 "metadata": {
  "kernelspec": {
   "display_name": "C++17",
   "language": "C++",
   "name": "cling-cpp17"
  },
  "language_info": {
   "codemirror_mode": "c++",
   "file_extension": ".c++",
   "mimetype": "text/x-c++src",
   "name": "c++"
  }
 },
 "nbformat": 4,
 "nbformat_minor": 2
}
